{
 "cells": [
  {
   "cell_type": "markdown",
   "id": "869a84ee",
   "metadata": {},
   "source": [
    "# Exploratory Data Analysis\n",
    "***Dawid Lisek gr 2a***"
   ]
  },
  {
   "cell_type": "markdown",
   "id": "1759e4a7",
   "metadata": {},
   "source": [
    "Importowanie niezbędnych bibliotek."
   ]
  },
  {
   "cell_type": "code",
   "execution_count": 1,
   "id": "dd613e4a",
   "metadata": {},
   "outputs": [],
   "source": [
    "import pandas as pd\n",
    "import matplotlib.pyplot as plt\n",
    "import numpy as np"
   ]
  },
  {
   "cell_type": "markdown",
   "id": "97d0535f",
   "metadata": {},
   "source": [
    "Wczytywanie danych."
   ]
  },
  {
   "cell_type": "code",
   "execution_count": 2,
   "id": "3af7e680",
   "metadata": {},
   "outputs": [
    {
     "data": {
      "text/html": [
       "<div>\n",
       "<style scoped>\n",
       "    .dataframe tbody tr th:only-of-type {\n",
       "        vertical-align: middle;\n",
       "    }\n",
       "\n",
       "    .dataframe tbody tr th {\n",
       "        vertical-align: top;\n",
       "    }\n",
       "\n",
       "    .dataframe thead th {\n",
       "        text-align: right;\n",
       "    }\n",
       "</style>\n",
       "<table border=\"1\" class=\"dataframe\">\n",
       "  <thead>\n",
       "    <tr style=\"text-align: right;\">\n",
       "      <th></th>\n",
       "      <th>Unnamed: 0</th>\n",
       "      <th>Dni od zakupu</th>\n",
       "      <th>Marka</th>\n",
       "      <th>Wiek kupującego</th>\n",
       "      <th>Płeć kupującego</th>\n",
       "      <th>Ocena</th>\n",
       "    </tr>\n",
       "  </thead>\n",
       "  <tbody>\n",
       "    <tr>\n",
       "      <th>0</th>\n",
       "      <td>0</td>\n",
       "      <td>5</td>\n",
       "      <td>Beko</td>\n",
       "      <td>38.0</td>\n",
       "      <td>bd.</td>\n",
       "      <td>5.0</td>\n",
       "    </tr>\n",
       "    <tr>\n",
       "      <th>1</th>\n",
       "      <td>1</td>\n",
       "      <td>4</td>\n",
       "      <td>Dyson</td>\n",
       "      <td>37.0</td>\n",
       "      <td>bd.</td>\n",
       "      <td>3.5</td>\n",
       "    </tr>\n",
       "    <tr>\n",
       "      <th>2</th>\n",
       "      <td>2</td>\n",
       "      <td>10</td>\n",
       "      <td>Samsung</td>\n",
       "      <td>20.0</td>\n",
       "      <td>bd.</td>\n",
       "      <td>2.5</td>\n",
       "    </tr>\n",
       "    <tr>\n",
       "      <th>3</th>\n",
       "      <td>3</td>\n",
       "      <td>14</td>\n",
       "      <td>Tefal</td>\n",
       "      <td>48.0</td>\n",
       "      <td>K</td>\n",
       "      <td>2.5</td>\n",
       "    </tr>\n",
       "    <tr>\n",
       "      <th>4</th>\n",
       "      <td>4</td>\n",
       "      <td>7</td>\n",
       "      <td>Electrolux</td>\n",
       "      <td>39.0</td>\n",
       "      <td>bd.</td>\n",
       "      <td>4.5</td>\n",
       "    </tr>\n",
       "    <tr>\n",
       "      <th>...</th>\n",
       "      <td>...</td>\n",
       "      <td>...</td>\n",
       "      <td>...</td>\n",
       "      <td>...</td>\n",
       "      <td>...</td>\n",
       "      <td>...</td>\n",
       "    </tr>\n",
       "    <tr>\n",
       "      <th>547</th>\n",
       "      <td>547</td>\n",
       "      <td>15</td>\n",
       "      <td>Electrolux</td>\n",
       "      <td>29.0</td>\n",
       "      <td>bd.</td>\n",
       "      <td>3.0</td>\n",
       "    </tr>\n",
       "    <tr>\n",
       "      <th>548</th>\n",
       "      <td>548</td>\n",
       "      <td>10</td>\n",
       "      <td>Samsung</td>\n",
       "      <td>45.0</td>\n",
       "      <td>bd.</td>\n",
       "      <td>2.5</td>\n",
       "    </tr>\n",
       "    <tr>\n",
       "      <th>549</th>\n",
       "      <td>549</td>\n",
       "      <td>7</td>\n",
       "      <td>Samsung</td>\n",
       "      <td>62.0</td>\n",
       "      <td>M</td>\n",
       "      <td>4.0</td>\n",
       "    </tr>\n",
       "    <tr>\n",
       "      <th>550</th>\n",
       "      <td>550</td>\n",
       "      <td>2</td>\n",
       "      <td>Tefal</td>\n",
       "      <td>37.0</td>\n",
       "      <td>K</td>\n",
       "      <td>4.0</td>\n",
       "    </tr>\n",
       "    <tr>\n",
       "      <th>551</th>\n",
       "      <td>551</td>\n",
       "      <td>11</td>\n",
       "      <td>Electrolux</td>\n",
       "      <td>43.0</td>\n",
       "      <td>K</td>\n",
       "      <td>3.5</td>\n",
       "    </tr>\n",
       "  </tbody>\n",
       "</table>\n",
       "<p>552 rows × 6 columns</p>\n",
       "</div>"
      ],
      "text/plain": [
       "     Unnamed: 0  Dni od zakupu       Marka  Wiek kupującego Płeć kupującego  \\\n",
       "0             0              5        Beko             38.0             bd.   \n",
       "1             1              4       Dyson             37.0             bd.   \n",
       "2             2             10     Samsung             20.0             bd.   \n",
       "3             3             14       Tefal             48.0               K   \n",
       "4             4              7  Electrolux             39.0             bd.   \n",
       "..          ...            ...         ...              ...             ...   \n",
       "547         547             15  Electrolux             29.0             bd.   \n",
       "548         548             10     Samsung             45.0             bd.   \n",
       "549         549              7     Samsung             62.0               M   \n",
       "550         550              2       Tefal             37.0               K   \n",
       "551         551             11  Electrolux             43.0               K   \n",
       "\n",
       "     Ocena  \n",
       "0      5.0  \n",
       "1      3.5  \n",
       "2      2.5  \n",
       "3      2.5  \n",
       "4      4.5  \n",
       "..     ...  \n",
       "547    3.0  \n",
       "548    2.5  \n",
       "549    4.0  \n",
       "550    4.0  \n",
       "551    3.5  \n",
       "\n",
       "[552 rows x 6 columns]"
      ]
     },
     "execution_count": 2,
     "metadata": {},
     "output_type": "execute_result"
    }
   ],
   "source": [
    "df = pd.read_csv(\"../Original_Data/10_POMORSKIE.csv\")\n",
    "df"
   ]
  },
  {
   "cell_type": "markdown",
   "id": "2256a7f6",
   "metadata": {},
   "source": [
    "Usunięcie kolumny Unnamed oraz stworzenie kopii danych."
   ]
  },
  {
   "cell_type": "code",
   "execution_count": 3,
   "id": "a57cbaef",
   "metadata": {},
   "outputs": [
    {
     "data": {
      "text/html": [
       "<div>\n",
       "<style scoped>\n",
       "    .dataframe tbody tr th:only-of-type {\n",
       "        vertical-align: middle;\n",
       "    }\n",
       "\n",
       "    .dataframe tbody tr th {\n",
       "        vertical-align: top;\n",
       "    }\n",
       "\n",
       "    .dataframe thead th {\n",
       "        text-align: right;\n",
       "    }\n",
       "</style>\n",
       "<table border=\"1\" class=\"dataframe\">\n",
       "  <thead>\n",
       "    <tr style=\"text-align: right;\">\n",
       "      <th></th>\n",
       "      <th>Dni od zakupu</th>\n",
       "      <th>Marka</th>\n",
       "      <th>Wiek kupującego</th>\n",
       "      <th>Płeć kupującego</th>\n",
       "      <th>Ocena</th>\n",
       "    </tr>\n",
       "  </thead>\n",
       "  <tbody>\n",
       "    <tr>\n",
       "      <th>0</th>\n",
       "      <td>5</td>\n",
       "      <td>Beko</td>\n",
       "      <td>38.0</td>\n",
       "      <td>bd.</td>\n",
       "      <td>5.0</td>\n",
       "    </tr>\n",
       "    <tr>\n",
       "      <th>1</th>\n",
       "      <td>4</td>\n",
       "      <td>Dyson</td>\n",
       "      <td>37.0</td>\n",
       "      <td>bd.</td>\n",
       "      <td>3.5</td>\n",
       "    </tr>\n",
       "    <tr>\n",
       "      <th>2</th>\n",
       "      <td>10</td>\n",
       "      <td>Samsung</td>\n",
       "      <td>20.0</td>\n",
       "      <td>bd.</td>\n",
       "      <td>2.5</td>\n",
       "    </tr>\n",
       "    <tr>\n",
       "      <th>3</th>\n",
       "      <td>14</td>\n",
       "      <td>Tefal</td>\n",
       "      <td>48.0</td>\n",
       "      <td>K</td>\n",
       "      <td>2.5</td>\n",
       "    </tr>\n",
       "    <tr>\n",
       "      <th>4</th>\n",
       "      <td>7</td>\n",
       "      <td>Electrolux</td>\n",
       "      <td>39.0</td>\n",
       "      <td>bd.</td>\n",
       "      <td>4.5</td>\n",
       "    </tr>\n",
       "    <tr>\n",
       "      <th>...</th>\n",
       "      <td>...</td>\n",
       "      <td>...</td>\n",
       "      <td>...</td>\n",
       "      <td>...</td>\n",
       "      <td>...</td>\n",
       "    </tr>\n",
       "    <tr>\n",
       "      <th>547</th>\n",
       "      <td>15</td>\n",
       "      <td>Electrolux</td>\n",
       "      <td>29.0</td>\n",
       "      <td>bd.</td>\n",
       "      <td>3.0</td>\n",
       "    </tr>\n",
       "    <tr>\n",
       "      <th>548</th>\n",
       "      <td>10</td>\n",
       "      <td>Samsung</td>\n",
       "      <td>45.0</td>\n",
       "      <td>bd.</td>\n",
       "      <td>2.5</td>\n",
       "    </tr>\n",
       "    <tr>\n",
       "      <th>549</th>\n",
       "      <td>7</td>\n",
       "      <td>Samsung</td>\n",
       "      <td>62.0</td>\n",
       "      <td>M</td>\n",
       "      <td>4.0</td>\n",
       "    </tr>\n",
       "    <tr>\n",
       "      <th>550</th>\n",
       "      <td>2</td>\n",
       "      <td>Tefal</td>\n",
       "      <td>37.0</td>\n",
       "      <td>K</td>\n",
       "      <td>4.0</td>\n",
       "    </tr>\n",
       "    <tr>\n",
       "      <th>551</th>\n",
       "      <td>11</td>\n",
       "      <td>Electrolux</td>\n",
       "      <td>43.0</td>\n",
       "      <td>K</td>\n",
       "      <td>3.5</td>\n",
       "    </tr>\n",
       "  </tbody>\n",
       "</table>\n",
       "<p>552 rows × 5 columns</p>\n",
       "</div>"
      ],
      "text/plain": [
       "     Dni od zakupu       Marka  Wiek kupującego Płeć kupującego  Ocena\n",
       "0                5        Beko             38.0             bd.    5.0\n",
       "1                4       Dyson             37.0             bd.    3.5\n",
       "2               10     Samsung             20.0             bd.    2.5\n",
       "3               14       Tefal             48.0               K    2.5\n",
       "4                7  Electrolux             39.0             bd.    4.5\n",
       "..             ...         ...              ...             ...    ...\n",
       "547             15  Electrolux             29.0             bd.    3.0\n",
       "548             10     Samsung             45.0             bd.    2.5\n",
       "549              7     Samsung             62.0               M    4.0\n",
       "550              2       Tefal             37.0               K    4.0\n",
       "551             11  Electrolux             43.0               K    3.5\n",
       "\n",
       "[552 rows x 5 columns]"
      ]
     },
     "execution_count": 3,
     "metadata": {},
     "output_type": "execute_result"
    }
   ],
   "source": [
    "df = df.drop(columns=['Unnamed: 0'])\n",
    "df_copy=df.copy()\n",
    "df.to_csv(\"../Analysis_Data/cleaned_data.csv\")\n",
    "df"
   ]
  },
  {
   "cell_type": "markdown",
   "id": "1065eca5",
   "metadata": {},
   "source": [
    "Informacje na temat danych."
   ]
  },
  {
   "cell_type": "code",
   "execution_count": 4,
   "id": "71ed6e23",
   "metadata": {},
   "outputs": [
    {
     "name": "stdout",
     "output_type": "stream",
     "text": [
      "<class 'pandas.core.frame.DataFrame'>\n",
      "RangeIndex: 552 entries, 0 to 551\n",
      "Data columns (total 5 columns):\n",
      " #   Column           Non-Null Count  Dtype  \n",
      "---  ------           --------------  -----  \n",
      " 0   Dni od zakupu    552 non-null    int64  \n",
      " 1   Marka            552 non-null    object \n",
      " 2   Wiek kupującego  497 non-null    float64\n",
      " 3   Płeć kupującego  552 non-null    object \n",
      " 4   Ocena            552 non-null    float64\n",
      "dtypes: float64(2), int64(1), object(2)\n",
      "memory usage: 21.7+ KB\n"
     ]
    }
   ],
   "source": [
    "df.info()"
   ]
  },
  {
   "cell_type": "markdown",
   "id": "06ed4124",
   "metadata": {},
   "source": [
    "### Wykresy ilości poszczególnych ocen dla każdej marki ze względu na płeć głosujących."
   ]
  },
  {
   "cell_type": "code",
   "execution_count": 5,
   "id": "93258432",
   "metadata": {},
   "outputs": [
    {
     "data": {
      "image/png": "[encoded data removed]",
      "text/plain": [
       "<Figure size 432x288 with 1 Axes>"
      ]
     },
     "metadata": {
      "needs_background": "light"
     },
     "output_type": "display_data"
    },
    {
     "data": {
      "image/png": "[encoded data removed]",
      "text/plain": [
       "<Figure size 432x288 with 1 Axes>"
      ]
     },
     "metadata": {
      "needs_background": "light"
     },
     "output_type": "display_data"
    },
    {
     "data": {
      "image/png": "[encoded data removed]",
      "text/plain": [
       "<Figure size 432x288 with 1 Axes>"
      ]
     },
     "metadata": {
      "needs_background": "light"
     },
     "output_type": "display_data"
    },
    {
     "data": {
      "image/png": "[encoded data removed]",
      "text/plain": [
       "<Figure size 432x288 with 1 Axes>"
      ]
     },
     "metadata": {
      "needs_background": "light"
     },
     "output_type": "display_data"
    },
    {
     "data": {
      "image/png": "[encoded data removed]",
      "text/plain": [
       "<Figure size 432x288 with 1 Axes>"
      ]
     },
     "metadata": {
      "needs_background": "light"
     },
     "output_type": "display_data"
    }
   ],
   "source": [
    "for i, marka in enumerate(df['Marka'].unique()):\n",
    "    table_man = df.loc[(df['Marka'] == marka) & (df['Płeć kupującego'] =='M')] # uzyskanie tabeli dla mężczyzn oraz konkretnej marki\n",
    "    brand_m = table_man.groupby('Ocena')['Płeć kupującego'].count() # zliczenie ilości osób głosujących na poszczególną ocenę\n",
    "    table_woman = df.loc[(df['Marka'] == marka) & (df['Płeć kupującego'] =='K')] # uzyskanie tabeli dla kobiet oraz konkretnej marki\n",
    "    brand_k = table_woman.groupby('Ocena')['Płeć kupującego'].count() # zliczenie ilości osób głosujących na poszczególną ocenę\n",
    "    table_bd = df.loc[(df['Marka'] == marka) & (df['Płeć kupującego'] =='bd.')] # uzyskanie tabeli dla osób, które nie podały płci oraz konkretnej marki\n",
    "    brand_bd = table_bd.groupby('Ocena')['Płeć kupującego'].count() # zliczenie ilości osób głosujących na poszczególną ocenę\n",
    "    result = pd.concat([brand_m.to_frame(name='Men'), brand_k.to_frame(name='Women'), brand_bd.to_frame(name='bd.')], axis=1) # połączenie tabel dla każdej płci\n",
    "    result = result.replace(np.NaN, 0) # usunięcie wartości NaN z tabeli oraz zastąpienie ich wartością 0\n",
    "    result.plot.bar(title=marka, ylabel='Ilość głosów') # tworzenie wykresu\n",
    "    result.to_csv(f\"../Analysis_Data/rate_amount_for_{marka}.csv\") # zapis danych do tabeli csv\n",
    "    plt.show()\n"
   ]
  },
  {
   "cell_type": "markdown",
   "id": "b0605b37",
   "metadata": {},
   "source": [
    "Przykładowa tabela zawierająca ilość poszczególnych głosów dla marki Electrolux."
   ]
  },
  {
   "cell_type": "code",
   "execution_count": 6,
   "id": "afe6f4a0",
   "metadata": {},
   "outputs": [
    {
     "data": {
      "text/html": [
       "<div>\n",
       "<style scoped>\n",
       "    .dataframe tbody tr th:only-of-type {\n",
       "        vertical-align: middle;\n",
       "    }\n",
       "\n",
       "    .dataframe tbody tr th {\n",
       "        vertical-align: top;\n",
       "    }\n",
       "\n",
       "    .dataframe thead th {\n",
       "        text-align: right;\n",
       "    }\n",
       "</style>\n",
       "<table border=\"1\" class=\"dataframe\">\n",
       "  <thead>\n",
       "    <tr style=\"text-align: right;\">\n",
       "      <th></th>\n",
       "      <th>Men</th>\n",
       "      <th>Women</th>\n",
       "      <th>bd.</th>\n",
       "    </tr>\n",
       "    <tr>\n",
       "      <th>Ocena</th>\n",
       "      <th></th>\n",
       "      <th></th>\n",
       "      <th></th>\n",
       "    </tr>\n",
       "  </thead>\n",
       "  <tbody>\n",
       "    <tr>\n",
       "      <th>0.0</th>\n",
       "      <td>1.0</td>\n",
       "      <td>1</td>\n",
       "      <td>1</td>\n",
       "    </tr>\n",
       "    <tr>\n",
       "      <th>0.5</th>\n",
       "      <td>0.0</td>\n",
       "      <td>1</td>\n",
       "      <td>1</td>\n",
       "    </tr>\n",
       "    <tr>\n",
       "      <th>1.0</th>\n",
       "      <td>2.0</td>\n",
       "      <td>4</td>\n",
       "      <td>5</td>\n",
       "    </tr>\n",
       "    <tr>\n",
       "      <th>1.5</th>\n",
       "      <td>1.0</td>\n",
       "      <td>7</td>\n",
       "      <td>5</td>\n",
       "    </tr>\n",
       "    <tr>\n",
       "      <th>2.0</th>\n",
       "      <td>5.0</td>\n",
       "      <td>5</td>\n",
       "      <td>7</td>\n",
       "    </tr>\n",
       "    <tr>\n",
       "      <th>2.5</th>\n",
       "      <td>7.0</td>\n",
       "      <td>1</td>\n",
       "      <td>4</td>\n",
       "    </tr>\n",
       "    <tr>\n",
       "      <th>3.0</th>\n",
       "      <td>5.0</td>\n",
       "      <td>2</td>\n",
       "      <td>9</td>\n",
       "    </tr>\n",
       "    <tr>\n",
       "      <th>3.5</th>\n",
       "      <td>4.0</td>\n",
       "      <td>8</td>\n",
       "      <td>3</td>\n",
       "    </tr>\n",
       "    <tr>\n",
       "      <th>4.0</th>\n",
       "      <td>0.0</td>\n",
       "      <td>2</td>\n",
       "      <td>3</td>\n",
       "    </tr>\n",
       "    <tr>\n",
       "      <th>4.5</th>\n",
       "      <td>3.0</td>\n",
       "      <td>1</td>\n",
       "      <td>3</td>\n",
       "    </tr>\n",
       "    <tr>\n",
       "      <th>5.0</th>\n",
       "      <td>1.0</td>\n",
       "      <td>1</td>\n",
       "      <td>3</td>\n",
       "    </tr>\n",
       "  </tbody>\n",
       "</table>\n",
       "</div>"
      ],
      "text/plain": [
       "       Men  Women  bd.\n",
       "Ocena                 \n",
       "0.0    1.0      1    1\n",
       "0.5    0.0      1    1\n",
       "1.0    2.0      4    5\n",
       "1.5    1.0      7    5\n",
       "2.0    5.0      5    7\n",
       "2.5    7.0      1    4\n",
       "3.0    5.0      2    9\n",
       "3.5    4.0      8    3\n",
       "4.0    0.0      2    3\n",
       "4.5    3.0      1    3\n",
       "5.0    1.0      1    3"
      ]
     },
     "execution_count": 6,
     "metadata": {},
     "output_type": "execute_result"
    }
   ],
   "source": [
    "result"
   ]
  },
  {
   "cell_type": "markdown",
   "id": "03ac3991",
   "metadata": {},
   "source": [
    "### Stworzenie tabeli zawierającej średnią ocenę, średnią ilość dni od zakupu, liczbę sprzedanych towarów oraz średni wiek klienta dla każdej marki."
   ]
  },
  {
   "cell_type": "markdown",
   "id": "e171ca3b",
   "metadata": {},
   "source": [
    "Lista wszystkich marek."
   ]
  },
  {
   "cell_type": "code",
   "execution_count": 7,
   "id": "69b1fd12",
   "metadata": {},
   "outputs": [
    {
     "data": {
      "text/plain": [
       "array(['Beko', 'Dyson', 'Samsung', 'Tefal', 'Electrolux'], dtype=object)"
      ]
     },
     "execution_count": 7,
     "metadata": {},
     "output_type": "execute_result"
    }
   ],
   "source": [
    "brands = df_copy['Marka'].unique()\n",
    "brands"
   ]
  },
  {
   "cell_type": "code",
   "execution_count": 8,
   "id": "fc00d5bd",
   "metadata": {},
   "outputs": [],
   "source": [
    "Average_rate = [] # tabela średnich ocen\n",
    "Average_days_from_purchase = [] # tabela średniej wartości dni od zakupu\n",
    "Purchase_amount = [] # tabela ilości sprzedanych towarów\n",
    "Average_client_age = [] # tabela średniego wieku clienta\n",
    "for brand in brands:\n",
    "    df = df_copy.loc[df_copy['Marka'] == brand] # wyszukanie wyszystkich danych dla poszczególnej marki\n",
    "    Average_client_age.append(df['Wiek kupującego'].mean()) # obliczenie średniego wieku kupującego\n",
    "    Average_rate.append(df['Ocena'].mean()) # obliczenie średniej oceny\n",
    "    Average_days_from_purchase.append(df['Dni od zakupu'].mean()) # obliczenie średniej ilości dni od zakupu\n",
    "    Purchase_amount.append(len(df.index)) # obliczenie ilości sprzedanych towarów"
   ]
  },
  {
   "cell_type": "markdown",
   "id": "41c7bc62",
   "metadata": {},
   "source": [
    "Stworzenie tabeli stats zawierającej statystyki dla każdej marki."
   ]
  },
  {
   "cell_type": "code",
   "execution_count": 9,
   "id": "d61e039b",
   "metadata": {},
   "outputs": [
    {
     "data": {
      "text/html": [
       "<div>\n",
       "<style scoped>\n",
       "    .dataframe tbody tr th:only-of-type {\n",
       "        vertical-align: middle;\n",
       "    }\n",
       "\n",
       "    .dataframe tbody tr th {\n",
       "        vertical-align: top;\n",
       "    }\n",
       "\n",
       "    .dataframe thead th {\n",
       "        text-align: right;\n",
       "    }\n",
       "</style>\n",
       "<table border=\"1\" class=\"dataframe\">\n",
       "  <thead>\n",
       "    <tr style=\"text-align: right;\">\n",
       "      <th></th>\n",
       "      <th>Średnia ocena</th>\n",
       "      <th>Średnia ilość dni od zakupu</th>\n",
       "      <th>Liczba sprzedanych towarów</th>\n",
       "      <th>Średni wiek klienta</th>\n",
       "    </tr>\n",
       "  </thead>\n",
       "  <tbody>\n",
       "    <tr>\n",
       "      <th>Beko</th>\n",
       "      <td>2.446</td>\n",
       "      <td>6.49</td>\n",
       "      <td>92</td>\n",
       "      <td>39.43</td>\n",
       "    </tr>\n",
       "    <tr>\n",
       "      <th>Dyson</th>\n",
       "      <td>2.582</td>\n",
       "      <td>7.27</td>\n",
       "      <td>85</td>\n",
       "      <td>40.15</td>\n",
       "    </tr>\n",
       "    <tr>\n",
       "      <th>Samsung</th>\n",
       "      <td>2.279</td>\n",
       "      <td>7.36</td>\n",
       "      <td>104</td>\n",
       "      <td>40.50</td>\n",
       "    </tr>\n",
       "    <tr>\n",
       "      <th>Tefal</th>\n",
       "      <td>2.567</td>\n",
       "      <td>6.70</td>\n",
       "      <td>165</td>\n",
       "      <td>39.46</td>\n",
       "    </tr>\n",
       "    <tr>\n",
       "      <th>Electrolux</th>\n",
       "      <td>2.571</td>\n",
       "      <td>7.37</td>\n",
       "      <td>106</td>\n",
       "      <td>39.78</td>\n",
       "    </tr>\n",
       "  </tbody>\n",
       "</table>\n",
       "</div>"
      ],
      "text/plain": [
       "            Średnia ocena  Średnia ilość dni od zakupu  \\\n",
       "Beko                2.446                         6.49   \n",
       "Dyson               2.582                         7.27   \n",
       "Samsung             2.279                         7.36   \n",
       "Tefal               2.567                         6.70   \n",
       "Electrolux          2.571                         7.37   \n",
       "\n",
       "            Liczba sprzedanych towarów  Średni wiek klienta  \n",
       "Beko                                92                39.43  \n",
       "Dyson                               85                40.15  \n",
       "Samsung                            104                40.50  \n",
       "Tefal                              165                39.46  \n",
       "Electrolux                         106                39.78  "
      ]
     },
     "execution_count": 9,
     "metadata": {},
     "output_type": "execute_result"
    }
   ],
   "source": [
    "stats = pd.DataFrame({'Średnia ocena': Average_rate, 'Średnia ilość dni od zakupu' : Average_days_from_purchase, 'Liczba sprzedanych towarów': Purchase_amount, 'Średni wiek klienta': Average_client_age}, index=brands) # stworzenie tabeli stats\n",
    "stats = stats.round({'Średnia ocena':3, 'Średnia ilość dni od zakupu': 2, 'Średni wiek klienta': 2}) # zaokrąglenie poszczególnych danych\n",
    "stats.to_csv(\"../Analysis_Data/brand_statistics.csv\") # zapisanie tabeli stats do pliku\n",
    "stats"
   ]
  },
  {
   "cell_type": "markdown",
   "id": "f4b2e2a3",
   "metadata": {},
   "source": [
    "Wykres liczby sprzedanych towarów przez poszczególne marki."
   ]
  },
  {
   "cell_type": "code",
   "execution_count": 10,
   "id": "aa988db6",
   "metadata": {},
   "outputs": [
    {
     "data": {
      "image/png": "[encoded data removed]",
      "text/plain": [
       "<Figure size 432x288 with 1 Axes>"
      ]
     },
     "metadata": {
      "needs_background": "light"
     },
     "output_type": "display_data"
    }
   ],
   "source": [
    "stats['Liczba sprzedanych towarów'].plot.bar(title='Liczba sprzedanych towarów przez markę', ylabel='Ilość sprzedanych towarów')\n",
    "plt.show()"
   ]
  },
  {
   "cell_type": "markdown",
   "id": "76aa2307",
   "metadata": {},
   "source": [
    "Pozostałe dane z tabeli stats nie zostały przedstawione na osobnych wykresach ze względu na niewielką różnicę w tych danych."
   ]
  }
 ],
 "metadata": {
  "interpreter": {
   "hash": "540fcaf071021d1e7e5a805037d819da964f698480e36c071e7daceaff758ea6"
  },
  "kernelspec": {
   "display_name": "Python 3.8.8 64-bit ('base': conda)",
   "name": "python3"
  },
  "language_info": {
   "codemirror_mode": {
    "name": "ipython",
    "version": 3
   },
   "file_extension": ".py",
   "mimetype": "text/x-python",
   "name": "python",
   "nbconvert_exporter": "python",
   "pygments_lexer": "ipython3",
   "version": "3.8.8"
  }
 },
 "nbformat": 4,
 "nbformat_minor": 5
}
